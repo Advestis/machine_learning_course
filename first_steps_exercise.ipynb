{
 "cells": [
  {
   "cell_type": "markdown",
   "id": "292507bf",
   "metadata": {},
   "source": [
    "# Excercise\n",
    "* Write a function that takes a list of floats as argument and returns its mean.\n",
    "* Write a second function that takes a list of floats as argument and returns its standard deviation.\n",
    "* Write a third function that takes a list of floats as argument and returns its mean and standard deviation\n",
    "* Write a function that takes into a path to a .txt file and loads its content into a list. The file will contain one float per line, you will find it in the project's directory under the name 'data_first_steps.txt'.\n",
    "* Combine all those functions into a script that reads the file and returns the mean and standard deviation of its content"
   ]
  },
  {
   "cell_type": "code",
   "execution_count": null,
   "id": "7e0ccee3",
   "metadata": {},
   "outputs": [],
   "source": []
  }
 ],
 "metadata": {
  "kernelspec": {
   "display_name": "Python 3 (ipykernel)",
   "language": "python",
   "name": "python3"
  },
  "language_info": {
   "codemirror_mode": {
    "name": "ipython",
    "version": 3
   },
   "file_extension": ".py",
   "mimetype": "text/x-python",
   "name": "python",
   "nbconvert_exporter": "python",
   "pygments_lexer": "ipython3",
   "version": "3.8.0"
  }
 },
 "nbformat": 4,
 "nbformat_minor": 5
}
