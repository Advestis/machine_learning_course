{
 "cells": [
  {
   "cell_type": "markdown",
   "id": "292507bf",
   "metadata": {},
   "source": [
    "# Excercise\n",
    "* Write a function that takes a list of floats as argument and returns its mean.\n",
    "* Write a second function that takes a list of floats as argument and returns its standard deviation.\n",
    "* Write a third function that takes a list of floats as argument and returns its mean and standard deviation\n",
    "* Write a function that takes a path to a .txt file and loads its content into a list. The file will contain one float per line, you will find it in the project's directory under the name 'data_first_steps.txt'.\n",
    "* Combine all those functions into a function that reads the file and returns the mean and standard deviation of its content\n",
    "* Finally, objectify it : create a class Reader that initiates with a file path and has a method 'mean' and a method 'std'"
   ]
  },
  {
   "cell_type": "code",
   "execution_count": 10,
   "id": "d313295c",
   "metadata": {},
   "outputs": [],
   "source": [
    "def mymean_easy(somelist):\n",
    "    return sum(somelist) / len(somelist)\n",
    "\n",
    "\n",
    "def mystd(somelist):\n",
    "    somelistsquared = [elem ** 2 for elem in somelist]\n",
    "    mean_squared = mymean_easy(somelist) ** 2\n",
    "    squared_means = mymean_easy(somelistsquared)\n",
    "    return (squared_means - mean_squared) ** 0.5\n",
    "\n",
    "\n",
    "def mean_and_std(somelist):\n",
    "    return mymean(somelist), mystd(somelist)\n",
    "\n",
    "\n",
    "class Reader:\n",
    "    \n",
    "    def __init__(self, path):\n",
    "        self.path = path\n",
    "        self.content = self.reader()\n",
    "        \n",
    "    def reader(self):\n",
    "        with open(self.path, \"r\") as ifile:\n",
    "            lines = ifile.readlines()\n",
    "\n",
    "        lines = [float(line.split(\"\\n\")[0]) for line in lines]\n",
    "        return lines\n",
    "\n",
    "    def mean(self):\n",
    "        return mymean_easy(self.content)\n",
    "\n",
    "    def std(self):\n",
    "        return mystd(self.content)"
   ]
  },
  {
   "cell_type": "code",
   "execution_count": 11,
   "id": "26c812ec",
   "metadata": {},
   "outputs": [],
   "source": [
    "reader_object = Reader(\"data_first_steps.txt\")"
   ]
  },
  {
   "cell_type": "code",
   "execution_count": 12,
   "id": "0c124f66",
   "metadata": {},
   "outputs": [
    {
     "name": "stdout",
     "output_type": "stream",
     "text": [
      "[0.1, 0.2, 0.4, -0.23, 0.48, 0.98, 0.658, -0.6, 0.689, 0.358, -0.1, 0.0, 0.988]\n",
      "data_first_steps.txt\n",
      "0.3017692307692308\n",
      "0.45165101467090096\n"
     ]
    }
   ],
   "source": [
    "print(reader_object.content)\n",
    "print(reader_object.path)\n",
    "print(reader_object.mean())\n",
    "print(reader_object.std())"
   ]
  },
  {
   "cell_type": "code",
   "execution_count": null,
   "id": "1e4eaa6a",
   "metadata": {},
   "outputs": [],
   "source": []
  }
 ],
 "metadata": {
  "kernelspec": {
   "display_name": "Python 3 (ipykernel)",
   "language": "python",
   "name": "python3"
  },
  "language_info": {
   "codemirror_mode": {
    "name": "ipython",
    "version": 3
   },
   "file_extension": ".py",
   "mimetype": "text/x-python",
   "name": "python",
   "nbconvert_exporter": "python",
   "pygments_lexer": "ipython3",
   "version": "3.8.0"
  }
 },
 "nbformat": 4,
 "nbformat_minor": 5
}
