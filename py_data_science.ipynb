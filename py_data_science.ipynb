{
 "cells": [
  {
   "cell_type": "code",
   "execution_count": 2,
   "id": "412680e7-5f5d-42cf-be47-cfa037935612",
   "metadata": {},
   "outputs": [],
   "source": [
    "# Import two external packages : numpy, that handles multi-dimensionnal arrays, and pandas, that manages indexes data frames\n",
    "import pandas as pd\n",
    "import numpy as np"
   ]
  },
  {
   "cell_type": "markdown",
   "id": "a64290f8",
   "metadata": {},
   "source": [
    "# Numpy"
   ]
  },
  {
   "cell_type": "markdown",
   "id": "3451af6b",
   "metadata": {},
   "source": [
    "## Operations on arrays"
   ]
  },
  {
   "cell_type": "markdown",
   "id": "41f17a1f",
   "metadata": {},
   "source": [
    "### Creation"
   ]
  },
  {
   "cell_type": "code",
   "execution_count": 3,
   "id": "d3d26588-9cfa-4b3f-924a-41a0fbdf1c1d",
   "metadata": {},
   "outputs": [
    {
     "data": {
      "text/plain": [
       "(array([1, 2, 3]), (3,), 1, numpy.ndarray, dtype('int64'))"
      ]
     },
     "execution_count": 3,
     "metadata": {},
     "output_type": "execute_result"
    }
   ],
   "source": [
    "arr1 = np.array([1, 2, 3])\n",
    "arr2 = np.array([2, 4, 6])\n",
    "arr1, arr1.shape, arr1.ndim, type(arr1), arr1.dtype"
   ]
  },
  {
   "cell_type": "markdown",
   "id": "62749ad4",
   "metadata": {},
   "source": [
    "### Use the reshape method to transform it into a 'column' vector\n",
    "The first argument is the number of lines, the second is the number of column. '-1' tells Numpy to guess the number of lines from the number of columns."
   ]
  },
  {
   "cell_type": "code",
   "execution_count": 4,
   "id": "aa29b85d",
   "metadata": {},
   "outputs": [
    {
     "data": {
      "text/plain": [
       "array([[1],\n",
       "       [2],\n",
       "       [3]])"
      ]
     },
     "execution_count": 4,
     "metadata": {},
     "output_type": "execute_result"
    }
   ],
   "source": [
    "arr1.reshape((-1, 1))"
   ]
  },
  {
   "cell_type": "markdown",
   "id": "8e583fe3",
   "metadata": {},
   "source": [
    "### Use the reshape method to transform it into a 'line' vector"
   ]
  },
  {
   "cell_type": "code",
   "execution_count": 5,
   "id": "4dc02544",
   "metadata": {},
   "outputs": [
    {
     "data": {
      "text/plain": [
       "array([[1, 2, 3]])"
      ]
     },
     "execution_count": 5,
     "metadata": {},
     "output_type": "execute_result"
    }
   ],
   "source": [
    "arr1.reshape((1, -1))"
   ]
  },
  {
   "cell_type": "markdown",
   "id": "f20bf46d",
   "metadata": {},
   "source": [
    "### Product of two 1-D arrays : element-wise multiplication (both vectors must have the same size)"
   ]
  },
  {
   "cell_type": "code",
   "execution_count": 6,
   "id": "7b1be363",
   "metadata": {},
   "outputs": [
    {
     "data": {
      "text/plain": [
       "array([ 2,  8, 18])"
      ]
     },
     "execution_count": 6,
     "metadata": {},
     "output_type": "execute_result"
    }
   ],
   "source": [
    "arr1 * arr2"
   ]
  },
  {
   "cell_type": "markdown",
   "id": "0cb83dee",
   "metadata": {},
   "source": [
    "Try division, addition, substraction, power of a scalar... anything"
   ]
  },
  {
   "cell_type": "code",
   "execution_count": null,
   "id": "236360f2",
   "metadata": {},
   "outputs": [],
   "source": []
  },
  {
   "cell_type": "markdown",
   "id": "6fa59ebf",
   "metadata": {},
   "source": [
    "### Matrix multiplication ('@' symbol) : scalar product."
   ]
  },
  {
   "cell_type": "code",
   "execution_count": 6,
   "id": "68bfa345",
   "metadata": {},
   "outputs": [
    {
     "data": {
      "text/plain": [
       "28"
      ]
     },
     "execution_count": 6,
     "metadata": {},
     "output_type": "execute_result"
    }
   ],
   "source": [
    "arr1 @ arr2"
   ]
  },
  {
   "cell_type": "markdown",
   "id": "9c19a4cb",
   "metadata": {},
   "source": [
    "### Column vector times line vector : makes a matrix\n",
    "Numpy has a weird convention here : doing line vector times column vector goves the same result, while we could expect it to be the scalar product too. Can also use 'numpy.outer' method."
   ]
  },
  {
   "cell_type": "code",
   "execution_count": 7,
   "id": "f8bea933",
   "metadata": {},
   "outputs": [
    {
     "data": {
      "text/plain": [
       "array([[ 2,  4,  6],\n",
       "       [ 4,  8, 12],\n",
       "       [ 6, 12, 18]])"
      ]
     },
     "execution_count": 7,
     "metadata": {},
     "output_type": "execute_result"
    }
   ],
   "source": [
    "arr1.reshape((-1, 1)) * arr2.reshape((1, -1))"
   ]
  },
  {
   "cell_type": "code",
   "execution_count": 8,
   "id": "288a132c",
   "metadata": {},
   "outputs": [
    {
     "data": {
      "text/plain": [
       "array([[ 2,  4,  6],\n",
       "       [ 4,  8, 12],\n",
       "       [ 6, 12, 18]])"
      ]
     },
     "execution_count": 8,
     "metadata": {},
     "output_type": "execute_result"
    }
   ],
   "source": [
    "arr1.reshape((1, -1)) * arr2.reshape((-1, 1))"
   ]
  },
  {
   "cell_type": "code",
   "execution_count": 9,
   "id": "8dc56d67",
   "metadata": {},
   "outputs": [
    {
     "data": {
      "text/plain": [
       "array([[ 2,  4,  6],\n",
       "       [ 4,  8, 12],\n",
       "       [ 6, 12, 18]])"
      ]
     },
     "execution_count": 9,
     "metadata": {},
     "output_type": "execute_result"
    }
   ],
   "source": [
    "np.outer(arr1, arr2)"
   ]
  },
  {
   "cell_type": "markdown",
   "id": "87fcfda6",
   "metadata": {},
   "source": [
    "Numpy is not limited to 2-D arrays ! Try 3D, or more, try different array sizes..."
   ]
  },
  {
   "cell_type": "code",
   "execution_count": 7,
   "id": "691db78c",
   "metadata": {},
   "outputs": [
    {
     "data": {
      "text/plain": [
       "array([1, 2])"
      ]
     },
     "execution_count": 7,
     "metadata": {},
     "output_type": "execute_result"
    }
   ],
   "source": [
    "arr3 = np.array([1, 2])\n",
    "arr3"
   ]
  },
  {
   "cell_type": "code",
   "execution_count": 11,
   "id": "4d9271fa",
   "metadata": {},
   "outputs": [
    {
     "data": {
      "text/plain": [
       "array([[[ 2,  4,  6],\n",
       "        [ 4,  8, 12],\n",
       "        [ 6, 12, 18]],\n",
       "\n",
       "       [[ 4,  8, 12],\n",
       "        [ 8, 16, 24],\n",
       "        [12, 24, 36]]])"
      ]
     },
     "execution_count": 11,
     "metadata": {},
     "output_type": "execute_result"
    }
   ],
   "source": [
    "np.outer(arr3, np.outer(arr1, arr2)).reshape((2, 3, 3))"
   ]
  },
  {
   "cell_type": "code",
   "execution_count": 12,
   "id": "b95dadb3",
   "metadata": {},
   "outputs": [
    {
     "data": {
      "text/plain": [
       "array([[[ 2,  4,  6],\n",
       "        [ 4,  8, 12]],\n",
       "\n",
       "       [[ 6, 12, 18],\n",
       "        [ 4,  8, 12]],\n",
       "\n",
       "       [[ 8, 16, 24],\n",
       "        [12, 24, 36]]])"
      ]
     },
     "execution_count": 12,
     "metadata": {},
     "output_type": "execute_result"
    }
   ],
   "source": [
    "np.outer(arr3, np.outer(arr1, arr2)).reshape((3, 2, 3))"
   ]
  },
  {
   "cell_type": "code",
   "execution_count": 13,
   "id": "3466e7ee",
   "metadata": {},
   "outputs": [
    {
     "data": {
      "text/plain": [
       "array([[[ 2,  4],\n",
       "        [ 6,  4],\n",
       "        [ 8, 12]],\n",
       "\n",
       "       [[ 6, 12],\n",
       "        [18,  4],\n",
       "        [ 8, 12]],\n",
       "\n",
       "       [[ 8, 16],\n",
       "        [24, 12],\n",
       "        [24, 36]]])"
      ]
     },
     "execution_count": 13,
     "metadata": {},
     "output_type": "execute_result"
    }
   ],
   "source": [
    "np.outer(arr3, np.outer(arr1, arr2)).reshape((3, 3, 2))"
   ]
  },
  {
   "cell_type": "code",
   "execution_count": 14,
   "id": "b9722397",
   "metadata": {},
   "outputs": [
    {
     "data": {
      "text/plain": [
       "array([[ 2,  4,  6],\n",
       "       [ 4,  8, 12],\n",
       "       [ 6, 12, 18]])"
      ]
     },
     "execution_count": 14,
     "metadata": {},
     "output_type": "execute_result"
    }
   ],
   "source": [
    "np.outer(arr1, arr2)"
   ]
  },
  {
   "cell_type": "code",
   "execution_count": 15,
   "id": "3e0e807e",
   "metadata": {},
   "outputs": [
    {
     "data": {
      "text/plain": [
       "array([[ 2,  4,  6],\n",
       "       [ 4,  8, 12],\n",
       "       [ 6, 12, 18]])"
      ]
     },
     "execution_count": 15,
     "metadata": {},
     "output_type": "execute_result"
    }
   ],
   "source": [
    "np.outer(arr1, arr2).T  # Transpose"
   ]
  },
  {
   "cell_type": "markdown",
   "id": "8c776e1d",
   "metadata": {},
   "source": [
    "## Usefull init methods with Numpy"
   ]
  },
  {
   "cell_type": "markdown",
   "id": "d5c90afd",
   "metadata": {},
   "source": [
    "### Create a table full of zeros"
   ]
  },
  {
   "cell_type": "code",
   "execution_count": 12,
   "id": "ad752787",
   "metadata": {},
   "outputs": [
    {
     "data": {
      "text/plain": [
       "array([[0., 0., 0., 0., 0.],\n",
       "       [0., 0., 0., 0., 0.],\n",
       "       [0., 0., 0., 0., 0.],\n",
       "       [0., 0., 0., 0., 0.],\n",
       "       [0., 0., 0., 0., 0.],\n",
       "       [0., 0., 0., 0., 0.],\n",
       "       [0., 0., 0., 0., 0.],\n",
       "       [0., 0., 0., 0., 0.],\n",
       "       [0., 0., 0., 0., 0.],\n",
       "       [0., 0., 0., 0., 0.]])"
      ]
     },
     "execution_count": 12,
     "metadata": {},
     "output_type": "execute_result"
    }
   ],
   "source": [
    "np.zeros(shape=(10, 5))"
   ]
  },
  {
   "cell_type": "markdown",
   "id": "17400c91",
   "metadata": {},
   "source": [
    "### Create a table full of ones"
   ]
  },
  {
   "cell_type": "code",
   "execution_count": 17,
   "id": "3a6b376b",
   "metadata": {},
   "outputs": [
    {
     "data": {
      "text/plain": [
       "array([[1., 1., 1., 1., 1.],\n",
       "       [1., 1., 1., 1., 1.],\n",
       "       [1., 1., 1., 1., 1.],\n",
       "       [1., 1., 1., 1., 1.],\n",
       "       [1., 1., 1., 1., 1.],\n",
       "       [1., 1., 1., 1., 1.],\n",
       "       [1., 1., 1., 1., 1.],\n",
       "       [1., 1., 1., 1., 1.],\n",
       "       [1., 1., 1., 1., 1.],\n",
       "       [1., 1., 1., 1., 1.]])"
      ]
     },
     "execution_count": 17,
     "metadata": {},
     "output_type": "execute_result"
    }
   ],
   "source": [
    "np.ones(shape=(10, 5))"
   ]
  },
  {
   "cell_type": "markdown",
   "id": "b76982c7",
   "metadata": {},
   "source": [
    "### Create a table full of whatever float you want"
   ]
  },
  {
   "cell_type": "code",
   "execution_count": 18,
   "id": "cba44567",
   "metadata": {},
   "outputs": [
    {
     "data": {
      "text/plain": [
       "array([[2.31, 2.31, 2.31, 2.31, 2.31],\n",
       "       [2.31, 2.31, 2.31, 2.31, 2.31],\n",
       "       [2.31, 2.31, 2.31, 2.31, 2.31],\n",
       "       [2.31, 2.31, 2.31, 2.31, 2.31],\n",
       "       [2.31, 2.31, 2.31, 2.31, 2.31],\n",
       "       [2.31, 2.31, 2.31, 2.31, 2.31],\n",
       "       [2.31, 2.31, 2.31, 2.31, 2.31],\n",
       "       [2.31, 2.31, 2.31, 2.31, 2.31],\n",
       "       [2.31, 2.31, 2.31, 2.31, 2.31],\n",
       "       [2.31, 2.31, 2.31, 2.31, 2.31]])"
      ]
     },
     "execution_count": 18,
     "metadata": {},
     "output_type": "execute_result"
    }
   ],
   "source": [
    "np.ones(shape=(10, 5)) * 2.31"
   ]
  },
  {
   "cell_type": "markdown",
   "id": "0350d403",
   "metadata": {},
   "source": [
    "### Create an identity matrix"
   ]
  },
  {
   "cell_type": "code",
   "execution_count": 19,
   "id": "5594b76a",
   "metadata": {},
   "outputs": [
    {
     "data": {
      "text/plain": [
       "array([[1., 0., 0.],\n",
       "       [0., 1., 0.],\n",
       "       [0., 0., 1.]])"
      ]
     },
     "execution_count": 19,
     "metadata": {},
     "output_type": "execute_result"
    }
   ],
   "source": [
    "np.identity(n=3)"
   ]
  },
  {
   "cell_type": "markdown",
   "id": "648aecb1",
   "metadata": {},
   "source": [
    "### Create a linear space"
   ]
  },
  {
   "cell_type": "code",
   "execution_count": 70,
   "id": "c1c0e0c0",
   "metadata": {},
   "outputs": [
    {
     "data": {
      "text/plain": [
       "array([11.        , 11.004004  , 11.00800801, 11.01201201, 11.01601602,\n",
       "       11.02002002, 11.02402402, 11.02802803, 11.03203203, 11.03603604,\n",
       "       11.04004004, 11.04404404, 11.04804805, 11.05205205, 11.05605606,\n",
       "       11.06006006, 11.06406406, 11.06806807, 11.07207207, 11.07607608,\n",
       "       11.08008008, 11.08408408, 11.08808809, 11.09209209, 11.0960961 ,\n",
       "       11.1001001 , 11.1041041 , 11.10810811, 11.11211211, 11.11611612,\n",
       "       11.12012012, 11.12412412, 11.12812813, 11.13213213, 11.13613614,\n",
       "       11.14014014, 11.14414414, 11.14814815, 11.15215215, 11.15615616,\n",
       "       11.16016016, 11.16416416, 11.16816817, 11.17217217, 11.17617618,\n",
       "       11.18018018, 11.18418418, 11.18818819, 11.19219219, 11.1961962 ,\n",
       "       11.2002002 , 11.2042042 , 11.20820821, 11.21221221, 11.21621622,\n",
       "       11.22022022, 11.22422422, 11.22822823, 11.23223223, 11.23623624,\n",
       "       11.24024024, 11.24424424, 11.24824825, 11.25225225, 11.25625626,\n",
       "       11.26026026, 11.26426426, 11.26826827, 11.27227227, 11.27627628,\n",
       "       11.28028028, 11.28428428, 11.28828829, 11.29229229, 11.2962963 ,\n",
       "       11.3003003 , 11.3043043 , 11.30830831, 11.31231231, 11.31631632,\n",
       "       11.32032032, 11.32432432, 11.32832833, 11.33233233, 11.33633634,\n",
       "       11.34034034, 11.34434434, 11.34834835, 11.35235235, 11.35635636,\n",
       "       11.36036036, 11.36436436, 11.36836837, 11.37237237, 11.37637638,\n",
       "       11.38038038, 11.38438438, 11.38838839, 11.39239239, 11.3963964 ,\n",
       "       11.4004004 , 11.4044044 , 11.40840841, 11.41241241, 11.41641642,\n",
       "       11.42042042, 11.42442442, 11.42842843, 11.43243243, 11.43643644,\n",
       "       11.44044044, 11.44444444, 11.44844845, 11.45245245, 11.45645646,\n",
       "       11.46046046, 11.46446446, 11.46846847, 11.47247247, 11.47647648,\n",
       "       11.48048048, 11.48448448, 11.48848849, 11.49249249, 11.4964965 ,\n",
       "       11.5005005 , 11.5045045 , 11.50850851, 11.51251251, 11.51651652,\n",
       "       11.52052052, 11.52452452, 11.52852853, 11.53253253, 11.53653654,\n",
       "       11.54054054, 11.54454454, 11.54854855, 11.55255255, 11.55655656,\n",
       "       11.56056056, 11.56456456, 11.56856857, 11.57257257, 11.57657658,\n",
       "       11.58058058, 11.58458458, 11.58858859, 11.59259259, 11.5965966 ,\n",
       "       11.6006006 , 11.6046046 , 11.60860861, 11.61261261, 11.61661662,\n",
       "       11.62062062, 11.62462462, 11.62862863, 11.63263263, 11.63663664,\n",
       "       11.64064064, 11.64464464, 11.64864865, 11.65265265, 11.65665666,\n",
       "       11.66066066, 11.66466466, 11.66866867, 11.67267267, 11.67667668,\n",
       "       11.68068068, 11.68468468, 11.68868869, 11.69269269, 11.6966967 ,\n",
       "       11.7007007 , 11.7047047 , 11.70870871, 11.71271271, 11.71671672,\n",
       "       11.72072072, 11.72472472, 11.72872873, 11.73273273, 11.73673674,\n",
       "       11.74074074, 11.74474474, 11.74874875, 11.75275275, 11.75675676,\n",
       "       11.76076076, 11.76476476, 11.76876877, 11.77277277, 11.77677678,\n",
       "       11.78078078, 11.78478478, 11.78878879, 11.79279279, 11.7967968 ,\n",
       "       11.8008008 , 11.8048048 , 11.80880881, 11.81281281, 11.81681682,\n",
       "       11.82082082, 11.82482482, 11.82882883, 11.83283283, 11.83683684,\n",
       "       11.84084084, 11.84484484, 11.84884885, 11.85285285, 11.85685686,\n",
       "       11.86086086, 11.86486486, 11.86886887, 11.87287287, 11.87687688,\n",
       "       11.88088088, 11.88488488, 11.88888889, 11.89289289, 11.8968969 ,\n",
       "       11.9009009 , 11.9049049 , 11.90890891, 11.91291291, 11.91691692,\n",
       "       11.92092092, 11.92492492, 11.92892893, 11.93293293, 11.93693694,\n",
       "       11.94094094, 11.94494494, 11.94894895, 11.95295295, 11.95695696,\n",
       "       11.96096096, 11.96496496, 11.96896897, 11.97297297, 11.97697698,\n",
       "       11.98098098, 11.98498498, 11.98898899, 11.99299299, 11.996997  ,\n",
       "       12.001001  , 12.00500501, 12.00900901, 12.01301301, 12.01701702,\n",
       "       12.02102102, 12.02502503, 12.02902903, 12.03303303, 12.03703704,\n",
       "       12.04104104, 12.04504505, 12.04904905, 12.05305305, 12.05705706,\n",
       "       12.06106106, 12.06506507, 12.06906907, 12.07307307, 12.07707708,\n",
       "       12.08108108, 12.08508509, 12.08908909, 12.09309309, 12.0970971 ,\n",
       "       12.1011011 , 12.10510511, 12.10910911, 12.11311311, 12.11711712,\n",
       "       12.12112112, 12.12512513, 12.12912913, 12.13313313, 12.13713714,\n",
       "       12.14114114, 12.14514515, 12.14914915, 12.15315315, 12.15715716,\n",
       "       12.16116116, 12.16516517, 12.16916917, 12.17317317, 12.17717718,\n",
       "       12.18118118, 12.18518519, 12.18918919, 12.19319319, 12.1971972 ,\n",
       "       12.2012012 , 12.20520521, 12.20920921, 12.21321321, 12.21721722,\n",
       "       12.22122122, 12.22522523, 12.22922923, 12.23323323, 12.23723724,\n",
       "       12.24124124, 12.24524525, 12.24924925, 12.25325325, 12.25725726,\n",
       "       12.26126126, 12.26526527, 12.26926927, 12.27327327, 12.27727728,\n",
       "       12.28128128, 12.28528529, 12.28928929, 12.29329329, 12.2972973 ,\n",
       "       12.3013013 , 12.30530531, 12.30930931, 12.31331331, 12.31731732,\n",
       "       12.32132132, 12.32532533, 12.32932933, 12.33333333, 12.33733734,\n",
       "       12.34134134, 12.34534535, 12.34934935, 12.35335335, 12.35735736,\n",
       "       12.36136136, 12.36536537, 12.36936937, 12.37337337, 12.37737738,\n",
       "       12.38138138, 12.38538539, 12.38938939, 12.39339339, 12.3973974 ,\n",
       "       12.4014014 , 12.40540541, 12.40940941, 12.41341341, 12.41741742,\n",
       "       12.42142142, 12.42542543, 12.42942943, 12.43343343, 12.43743744,\n",
       "       12.44144144, 12.44544545, 12.44944945, 12.45345345, 12.45745746,\n",
       "       12.46146146, 12.46546547, 12.46946947, 12.47347347, 12.47747748,\n",
       "       12.48148148, 12.48548549, 12.48948949, 12.49349349, 12.4974975 ,\n",
       "       12.5015015 , 12.50550551, 12.50950951, 12.51351351, 12.51751752,\n",
       "       12.52152152, 12.52552553, 12.52952953, 12.53353353, 12.53753754,\n",
       "       12.54154154, 12.54554555, 12.54954955, 12.55355355, 12.55755756,\n",
       "       12.56156156, 12.56556557, 12.56956957, 12.57357357, 12.57757758,\n",
       "       12.58158158, 12.58558559, 12.58958959, 12.59359359, 12.5975976 ,\n",
       "       12.6016016 , 12.60560561, 12.60960961, 12.61361361, 12.61761762,\n",
       "       12.62162162, 12.62562563, 12.62962963, 12.63363363, 12.63763764,\n",
       "       12.64164164, 12.64564565, 12.64964965, 12.65365365, 12.65765766,\n",
       "       12.66166166, 12.66566567, 12.66966967, 12.67367367, 12.67767768,\n",
       "       12.68168168, 12.68568569, 12.68968969, 12.69369369, 12.6976977 ,\n",
       "       12.7017017 , 12.70570571, 12.70970971, 12.71371371, 12.71771772,\n",
       "       12.72172172, 12.72572573, 12.72972973, 12.73373373, 12.73773774,\n",
       "       12.74174174, 12.74574575, 12.74974975, 12.75375375, 12.75775776,\n",
       "       12.76176176, 12.76576577, 12.76976977, 12.77377377, 12.77777778,\n",
       "       12.78178178, 12.78578579, 12.78978979, 12.79379379, 12.7977978 ,\n",
       "       12.8018018 , 12.80580581, 12.80980981, 12.81381381, 12.81781782,\n",
       "       12.82182182, 12.82582583, 12.82982983, 12.83383383, 12.83783784,\n",
       "       12.84184184, 12.84584585, 12.84984985, 12.85385385, 12.85785786,\n",
       "       12.86186186, 12.86586587, 12.86986987, 12.87387387, 12.87787788,\n",
       "       12.88188188, 12.88588589, 12.88988989, 12.89389389, 12.8978979 ,\n",
       "       12.9019019 , 12.90590591, 12.90990991, 12.91391391, 12.91791792,\n",
       "       12.92192192, 12.92592593, 12.92992993, 12.93393393, 12.93793794,\n",
       "       12.94194194, 12.94594595, 12.94994995, 12.95395395, 12.95795796,\n",
       "       12.96196196, 12.96596597, 12.96996997, 12.97397397, 12.97797798,\n",
       "       12.98198198, 12.98598599, 12.98998999, 12.99399399, 12.997998  ,\n",
       "       13.002002  , 13.00600601, 13.01001001, 13.01401401, 13.01801802,\n",
       "       13.02202202, 13.02602603, 13.03003003, 13.03403403, 13.03803804,\n",
       "       13.04204204, 13.04604605, 13.05005005, 13.05405405, 13.05805806,\n",
       "       13.06206206, 13.06606607, 13.07007007, 13.07407407, 13.07807808,\n",
       "       13.08208208, 13.08608609, 13.09009009, 13.09409409, 13.0980981 ,\n",
       "       13.1021021 , 13.10610611, 13.11011011, 13.11411411, 13.11811812,\n",
       "       13.12212212, 13.12612613, 13.13013013, 13.13413413, 13.13813814,\n",
       "       13.14214214, 13.14614615, 13.15015015, 13.15415415, 13.15815816,\n",
       "       13.16216216, 13.16616617, 13.17017017, 13.17417417, 13.17817818,\n",
       "       13.18218218, 13.18618619, 13.19019019, 13.19419419, 13.1981982 ,\n",
       "       13.2022022 , 13.20620621, 13.21021021, 13.21421421, 13.21821822,\n",
       "       13.22222222, 13.22622623, 13.23023023, 13.23423423, 13.23823824,\n",
       "       13.24224224, 13.24624625, 13.25025025, 13.25425425, 13.25825826,\n",
       "       13.26226226, 13.26626627, 13.27027027, 13.27427427, 13.27827828,\n",
       "       13.28228228, 13.28628629, 13.29029029, 13.29429429, 13.2982983 ,\n",
       "       13.3023023 , 13.30630631, 13.31031031, 13.31431431, 13.31831832,\n",
       "       13.32232232, 13.32632633, 13.33033033, 13.33433433, 13.33833834,\n",
       "       13.34234234, 13.34634635, 13.35035035, 13.35435435, 13.35835836,\n",
       "       13.36236236, 13.36636637, 13.37037037, 13.37437437, 13.37837838,\n",
       "       13.38238238, 13.38638639, 13.39039039, 13.39439439, 13.3983984 ,\n",
       "       13.4024024 , 13.40640641, 13.41041041, 13.41441441, 13.41841842,\n",
       "       13.42242242, 13.42642643, 13.43043043, 13.43443443, 13.43843844,\n",
       "       13.44244244, 13.44644645, 13.45045045, 13.45445445, 13.45845846,\n",
       "       13.46246246, 13.46646647, 13.47047047, 13.47447447, 13.47847848,\n",
       "       13.48248248, 13.48648649, 13.49049049, 13.49449449, 13.4984985 ,\n",
       "       13.5025025 , 13.50650651, 13.51051051, 13.51451451, 13.51851852,\n",
       "       13.52252252, 13.52652653, 13.53053053, 13.53453453, 13.53853854,\n",
       "       13.54254254, 13.54654655, 13.55055055, 13.55455455, 13.55855856,\n",
       "       13.56256256, 13.56656657, 13.57057057, 13.57457457, 13.57857858,\n",
       "       13.58258258, 13.58658659, 13.59059059, 13.59459459, 13.5985986 ,\n",
       "       13.6026026 , 13.60660661, 13.61061061, 13.61461461, 13.61861862,\n",
       "       13.62262262, 13.62662663, 13.63063063, 13.63463463, 13.63863864,\n",
       "       13.64264264, 13.64664665, 13.65065065, 13.65465465, 13.65865866,\n",
       "       13.66266266, 13.66666667, 13.67067067, 13.67467467, 13.67867868,\n",
       "       13.68268268, 13.68668669, 13.69069069, 13.69469469, 13.6986987 ,\n",
       "       13.7027027 , 13.70670671, 13.71071071, 13.71471471, 13.71871872,\n",
       "       13.72272272, 13.72672673, 13.73073073, 13.73473473, 13.73873874,\n",
       "       13.74274274, 13.74674675, 13.75075075, 13.75475475, 13.75875876,\n",
       "       13.76276276, 13.76676677, 13.77077077, 13.77477477, 13.77877878,\n",
       "       13.78278278, 13.78678679, 13.79079079, 13.79479479, 13.7987988 ,\n",
       "       13.8028028 , 13.80680681, 13.81081081, 13.81481481, 13.81881882,\n",
       "       13.82282282, 13.82682683, 13.83083083, 13.83483483, 13.83883884,\n",
       "       13.84284284, 13.84684685, 13.85085085, 13.85485485, 13.85885886,\n",
       "       13.86286286, 13.86686687, 13.87087087, 13.87487487, 13.87887888,\n",
       "       13.88288288, 13.88688689, 13.89089089, 13.89489489, 13.8988989 ,\n",
       "       13.9029029 , 13.90690691, 13.91091091, 13.91491491, 13.91891892,\n",
       "       13.92292292, 13.92692693, 13.93093093, 13.93493493, 13.93893894,\n",
       "       13.94294294, 13.94694695, 13.95095095, 13.95495495, 13.95895896,\n",
       "       13.96296296, 13.96696697, 13.97097097, 13.97497497, 13.97897898,\n",
       "       13.98298298, 13.98698699, 13.99099099, 13.99499499, 13.998999  ,\n",
       "       14.003003  , 14.00700701, 14.01101101, 14.01501502, 14.01901902,\n",
       "       14.02302302, 14.02702703, 14.03103103, 14.03503504, 14.03903904,\n",
       "       14.04304304, 14.04704705, 14.05105105, 14.05505506, 14.05905906,\n",
       "       14.06306306, 14.06706707, 14.07107107, 14.07507508, 14.07907908,\n",
       "       14.08308308, 14.08708709, 14.09109109, 14.0950951 , 14.0990991 ,\n",
       "       14.1031031 , 14.10710711, 14.11111111, 14.11511512, 14.11911912,\n",
       "       14.12312312, 14.12712713, 14.13113113, 14.13513514, 14.13913914,\n",
       "       14.14314314, 14.14714715, 14.15115115, 14.15515516, 14.15915916,\n",
       "       14.16316316, 14.16716717, 14.17117117, 14.17517518, 14.17917918,\n",
       "       14.18318318, 14.18718719, 14.19119119, 14.1951952 , 14.1991992 ,\n",
       "       14.2032032 , 14.20720721, 14.21121121, 14.21521522, 14.21921922,\n",
       "       14.22322322, 14.22722723, 14.23123123, 14.23523524, 14.23923924,\n",
       "       14.24324324, 14.24724725, 14.25125125, 14.25525526, 14.25925926,\n",
       "       14.26326326, 14.26726727, 14.27127127, 14.27527528, 14.27927928,\n",
       "       14.28328328, 14.28728729, 14.29129129, 14.2952953 , 14.2992993 ,\n",
       "       14.3033033 , 14.30730731, 14.31131131, 14.31531532, 14.31931932,\n",
       "       14.32332332, 14.32732733, 14.33133133, 14.33533534, 14.33933934,\n",
       "       14.34334334, 14.34734735, 14.35135135, 14.35535536, 14.35935936,\n",
       "       14.36336336, 14.36736737, 14.37137137, 14.37537538, 14.37937938,\n",
       "       14.38338338, 14.38738739, 14.39139139, 14.3953954 , 14.3993994 ,\n",
       "       14.4034034 , 14.40740741, 14.41141141, 14.41541542, 14.41941942,\n",
       "       14.42342342, 14.42742743, 14.43143143, 14.43543544, 14.43943944,\n",
       "       14.44344344, 14.44744745, 14.45145145, 14.45545546, 14.45945946,\n",
       "       14.46346346, 14.46746747, 14.47147147, 14.47547548, 14.47947948,\n",
       "       14.48348348, 14.48748749, 14.49149149, 14.4954955 , 14.4994995 ,\n",
       "       14.5035035 , 14.50750751, 14.51151151, 14.51551552, 14.51951952,\n",
       "       14.52352352, 14.52752753, 14.53153153, 14.53553554, 14.53953954,\n",
       "       14.54354354, 14.54754755, 14.55155155, 14.55555556, 14.55955956,\n",
       "       14.56356356, 14.56756757, 14.57157157, 14.57557558, 14.57957958,\n",
       "       14.58358358, 14.58758759, 14.59159159, 14.5955956 , 14.5995996 ,\n",
       "       14.6036036 , 14.60760761, 14.61161161, 14.61561562, 14.61961962,\n",
       "       14.62362362, 14.62762763, 14.63163163, 14.63563564, 14.63963964,\n",
       "       14.64364364, 14.64764765, 14.65165165, 14.65565566, 14.65965966,\n",
       "       14.66366366, 14.66766767, 14.67167167, 14.67567568, 14.67967968,\n",
       "       14.68368368, 14.68768769, 14.69169169, 14.6956957 , 14.6996997 ,\n",
       "       14.7037037 , 14.70770771, 14.71171171, 14.71571572, 14.71971972,\n",
       "       14.72372372, 14.72772773, 14.73173173, 14.73573574, 14.73973974,\n",
       "       14.74374374, 14.74774775, 14.75175175, 14.75575576, 14.75975976,\n",
       "       14.76376376, 14.76776777, 14.77177177, 14.77577578, 14.77977978,\n",
       "       14.78378378, 14.78778779, 14.79179179, 14.7957958 , 14.7997998 ,\n",
       "       14.8038038 , 14.80780781, 14.81181181, 14.81581582, 14.81981982,\n",
       "       14.82382382, 14.82782783, 14.83183183, 14.83583584, 14.83983984,\n",
       "       14.84384384, 14.84784785, 14.85185185, 14.85585586, 14.85985986,\n",
       "       14.86386386, 14.86786787, 14.87187187, 14.87587588, 14.87987988,\n",
       "       14.88388388, 14.88788789, 14.89189189, 14.8958959 , 14.8998999 ,\n",
       "       14.9039039 , 14.90790791, 14.91191191, 14.91591592, 14.91991992,\n",
       "       14.92392392, 14.92792793, 14.93193193, 14.93593594, 14.93993994,\n",
       "       14.94394394, 14.94794795, 14.95195195, 14.95595596, 14.95995996,\n",
       "       14.96396396, 14.96796797, 14.97197197, 14.97597598, 14.97997998,\n",
       "       14.98398398, 14.98798799, 14.99199199, 14.995996  , 15.        ])"
      ]
     },
     "execution_count": 70,
     "metadata": {},
     "output_type": "execute_result"
    }
   ],
   "source": [
    "np.linspace(11, 15, 1000)  # 1000 points evenly spaced, from 11 to 15"
   ]
  },
  {
   "cell_type": "markdown",
   "id": "118bc114",
   "metadata": {},
   "source": [
    "Try np.arange"
   ]
  },
  {
   "cell_type": "code",
   "execution_count": 16,
   "id": "e3b5e796",
   "metadata": {},
   "outputs": [
    {
     "data": {
      "text/plain": [
       "array([0, 2, 4, 6, 8])"
      ]
     },
     "execution_count": 16,
     "metadata": {},
     "output_type": "execute_result"
    }
   ],
   "source": [
    "np.arange(0, 10, 2)  # complementary of linspace"
   ]
  },
  {
   "cell_type": "code",
   "execution_count": 17,
   "id": "0b9ac385",
   "metadata": {},
   "outputs": [
    {
     "data": {
      "text/plain": [
       "[array([[ 0. ,  2.5,  5. ,  7.5, 10. ],\n",
       "        [ 0. ,  2.5,  5. ,  7.5, 10. ]]),\n",
       " array([[-1., -1., -1., -1., -1.],\n",
       "        [-5., -5., -5., -5., -5.]])]"
      ]
     },
     "execution_count": 17,
     "metadata": {},
     "output_type": "execute_result"
    }
   ],
   "source": [
    "# 2 matrices of 2 lines and 5 columns. First filled with values from 0 to 10 along columns, the second filled with values from -1 to -5 along lines\n",
    "np.meshgrid(\n",
    "    np.linspace(0, 10, 5),\n",
    "    np.linspace(-1, -5, 2)\n",
    ")"
   ]
  },
  {
   "cell_type": "markdown",
   "id": "dbaa58ee",
   "metadata": {},
   "source": [
    "### Create random numbers"
   ]
  },
  {
   "cell_type": "code",
   "execution_count": 18,
   "id": "b4eac872",
   "metadata": {},
   "outputs": [
    {
     "data": {
      "image/png": "[encoded data removed]",
      "text/plain": [
       "<Figure size 432x288 with 1 Axes>"
      ]
     },
     "metadata": {
      "needs_background": "light"
     },
     "output_type": "display_data"
    }
   ],
   "source": [
    "import matplotlib.pyplot as plt\n",
    "_ = plt.hist(np.random.normal(10, 2, 10000), 100)"
   ]
  },
  {
   "cell_type": "code",
   "execution_count": 19,
   "id": "de812a60",
   "metadata": {},
   "outputs": [
    {
     "data": {
      "text/plain": [
       "1.339742935693393"
      ]
     },
     "execution_count": 19,
     "metadata": {},
     "output_type": "execute_result"
    }
   ],
   "source": [
    "np.random.normal()  # Single sample drawn on a Gaussian distribution of mean 0 and std 1"
   ]
  },
  {
   "cell_type": "code",
   "execution_count": 20,
   "id": "83d05ebc",
   "metadata": {},
   "outputs": [
    {
     "data": {
      "text/plain": [
       "83.6891263055892"
      ]
     },
     "execution_count": 20,
     "metadata": {},
     "output_type": "execute_result"
    }
   ],
   "source": [
    "np.random.normal(10, 100)  # Single sample drawn on a Gaussian distribution of mean 10 and std 100"
   ]
  },
  {
   "cell_type": "code",
   "execution_count": 21,
   "id": "6374cbf3",
   "metadata": {},
   "outputs": [
    {
     "data": {
      "text/plain": [
       "array([[  47.17592453,  -85.73782248, -116.93280511,   47.75799598,\n",
       "         109.94629666,  -76.56478078,  -60.85387781, -134.83149572,\n",
       "          -1.27986436,  131.35158175],\n",
       "       [  42.554485  ,   57.42790032,  -33.26163465,  -44.90132793,\n",
       "        -100.90421618,  313.83163047,  -64.55131528,   -9.85672854,\n",
       "        -144.64325518,  139.92814348],\n",
       "       [ -23.23990762,   82.46385307,   26.63159148,  107.01733314,\n",
       "         -45.00801956,  -88.26092891,    6.15736279,  -58.73065666,\n",
       "          38.95854816,  173.12465717],\n",
       "       [  15.23037306,  -37.5393841 ,   43.44272708,  -20.51130026,\n",
       "          69.4254102 ,   -0.46394157,  -18.15526593,   -5.78081467,\n",
       "         -35.6303519 ,   84.44683375],\n",
       "       [ -20.79148976,  -67.74045705,  140.76506982,  -89.69157087,\n",
       "         217.3664504 ,   33.22402106,   64.62662398,  -32.7693802 ,\n",
       "          79.56213795,  -84.22801378],\n",
       "       [ -35.13205353,   66.89377846,  -44.84344476,  134.91120803,\n",
       "         106.52879095, -120.5753311 ,   36.4036333 ,   48.75192987,\n",
       "         102.0790285 ,  -37.55555755],\n",
       "       [  18.7796578 ,   50.81429059,   -6.43964701,  -15.45263061,\n",
       "          96.95365391,   14.56519647,   16.71199949,  -25.09988257,\n",
       "          -4.9709157 ,   36.85846956],\n",
       "       [  64.69998219,   83.78671064,   61.96330124,  -87.22983559,\n",
       "         -81.9747986 ,  159.69283103, -117.60446428,   51.36501353,\n",
       "         -78.20436011,  -46.12380533],\n",
       "       [  58.44602447, -131.54226313,  -42.07335056,  177.22162632,\n",
       "          69.71636529, -126.50234562,  -84.8060726 ,   76.64098567,\n",
       "          40.97905819,   71.92168554],\n",
       "       [ 245.2151088 ,  173.40741922,   16.69307629,  -66.2490937 ,\n",
       "          87.87934173, -163.30067887, -173.17946599,  -25.11805258,\n",
       "         -50.99558841,  -27.79712977]])"
      ]
     },
     "execution_count": 21,
     "metadata": {},
     "output_type": "execute_result"
    }
   ],
   "source": [
    "arr = np.random.normal(10, 100, (10, 10))  # 10x10 samples drawn on a Gaussian distribution of mean 10 and std 100\n",
    "arr"
   ]
  },
  {
   "cell_type": "markdown",
   "id": "224ba0d3",
   "metadata": {},
   "source": [
    "You can try out other distributions"
   ]
  },
  {
   "cell_type": "markdown",
   "id": "2b0f91af",
   "metadata": {},
   "source": [
    "## Accessing data in a table"
   ]
  },
  {
   "cell_type": "code",
   "execution_count": 22,
   "id": "7044663b",
   "metadata": {},
   "outputs": [],
   "source": [
    "matrix = np.random.randint(0, 10, size=(4, 3))"
   ]
  },
  {
   "cell_type": "code",
   "execution_count": 23,
   "id": "a3b43cec",
   "metadata": {},
   "outputs": [
    {
     "data": {
      "text/plain": [
       "array([[1, 7, 7],\n",
       "       [5, 4, 7],\n",
       "       [4, 1, 1],\n",
       "       [6, 0, 6]])"
      ]
     },
     "execution_count": 23,
     "metadata": {},
     "output_type": "execute_result"
    }
   ],
   "source": [
    "matrix"
   ]
  },
  {
   "cell_type": "code",
   "execution_count": 24,
   "id": "254af6ba",
   "metadata": {},
   "outputs": [
    {
     "data": {
      "text/plain": [
       "array([1, 7, 7])"
      ]
     },
     "execution_count": 24,
     "metadata": {},
     "output_type": "execute_result"
    }
   ],
   "source": [
    "matrix[0]  # First line"
   ]
  },
  {
   "cell_type": "code",
   "execution_count": 25,
   "id": "2b0d716a",
   "metadata": {},
   "outputs": [
    {
     "data": {
      "text/plain": [
       "array([1, 5, 4, 6])"
      ]
     },
     "execution_count": 25,
     "metadata": {},
     "output_type": "execute_result"
    }
   ],
   "source": [
    "matrix[:, 0]  # First column"
   ]
  },
  {
   "cell_type": "code",
   "execution_count": 26,
   "id": "1c893710",
   "metadata": {},
   "outputs": [
    {
     "data": {
      "text/plain": [
       "array([[5, 4, 7],\n",
       "       [4, 1, 1],\n",
       "       [6, 0, 6]])"
      ]
     },
     "execution_count": 26,
     "metadata": {},
     "output_type": "execute_result"
    }
   ],
   "source": [
    "matrix[1:4]  # Lines 1 to 3 (line 1 is the second line, line 0 is the first line)"
   ]
  },
  {
   "cell_type": "code",
   "execution_count": 28,
   "id": "82d02572",
   "metadata": {},
   "outputs": [
    {
     "data": {
      "text/plain": [
       "array([[5, 4],\n",
       "       [4, 1],\n",
       "       [6, 0]])"
      ]
     },
     "execution_count": 28,
     "metadata": {},
     "output_type": "execute_result"
    }
   ],
   "source": [
    "matrix[1:4, 0:2]  # Same lines but only the first two columns"
   ]
  },
  {
   "cell_type": "code",
   "execution_count": 29,
   "id": "b7c820e5",
   "metadata": {},
   "outputs": [
    {
     "data": {
      "text/plain": [
       "array([[6, 0, 6],\n",
       "       [1, 1, 4],\n",
       "       [7, 4, 5],\n",
       "       [7, 7, 1]])"
      ]
     },
     "execution_count": 29,
     "metadata": {},
     "output_type": "execute_result"
    }
   ],
   "source": [
    "matrix[::-1, ::-1]  # Inverse all lines and all rows"
   ]
  },
  {
   "cell_type": "code",
   "execution_count": 30,
   "id": "ba2db71b",
   "metadata": {},
   "outputs": [
    {
     "data": {
      "text/plain": [
       "array([[6, 0, 6],\n",
       "       [4, 1, 1],\n",
       "       [5, 4, 7],\n",
       "       [1, 7, 7]])"
      ]
     },
     "execution_count": 30,
     "metadata": {},
     "output_type": "execute_result"
    }
   ],
   "source": [
    "matrix[::-1]  # Inverse only lines"
   ]
  },
  {
   "cell_type": "code",
   "execution_count": 31,
   "id": "e4fb7563",
   "metadata": {},
   "outputs": [
    {
     "data": {
      "text/plain": [
       "array([[7, 7, 1],\n",
       "       [7, 4, 5],\n",
       "       [1, 1, 4],\n",
       "       [6, 0, 6]])"
      ]
     },
     "execution_count": 31,
     "metadata": {},
     "output_type": "execute_result"
    }
   ],
   "source": [
    "matrix[:, ::-1]  # Inverse only rows"
   ]
  },
  {
   "cell_type": "code",
   "execution_count": 32,
   "id": "aca734f4",
   "metadata": {},
   "outputs": [
    {
     "data": {
      "text/plain": [
       "array([[6, 0, 6],\n",
       "       [5, 4, 7]])"
      ]
     },
     "execution_count": 32,
     "metadata": {},
     "output_type": "execute_result"
    }
   ],
   "source": [
    "matrix[::-2]  # Inverse only lines, and only take one line every two lines"
   ]
  },
  {
   "cell_type": "code",
   "execution_count": 33,
   "id": "4479b6b3",
   "metadata": {},
   "outputs": [
    {
     "data": {
      "text/plain": [
       "array([[False,  True,  True],\n",
       "       [ True,  True,  True],\n",
       "       [ True, False, False],\n",
       "       [ True, False,  True]])"
      ]
     },
     "execution_count": 33,
     "metadata": {},
     "output_type": "execute_result"
    }
   ],
   "source": [
    "matrix > 3  # Same array with values replaced by True where the conditions is met and False everywhere else."
   ]
  },
  {
   "cell_type": "code",
   "execution_count": 34,
   "id": "447acb67",
   "metadata": {},
   "outputs": [
    {
     "data": {
      "text/plain": [
       "array([7, 7, 5, 4, 7, 4, 6, 6])"
      ]
     },
     "execution_count": 34,
     "metadata": {},
     "output_type": "execute_result"
    }
   ],
   "source": [
    "matrix[matrix > 3]  # only keep elements greater than 3 (flattens the array)"
   ]
  },
  {
   "cell_type": "code",
   "execution_count": 35,
   "id": "82568395",
   "metadata": {},
   "outputs": [
    {
     "data": {
      "text/plain": [
       "array([[0, 1, 1],\n",
       "       [1, 1, 1],\n",
       "       [1, 0, 0],\n",
       "       [1, 0, 1]])"
      ]
     },
     "execution_count": 35,
     "metadata": {},
     "output_type": "execute_result"
    }
   ],
   "source": [
    "(matrix > 3) * 1  # Same as matrix > 3 but with 1 instead of True and 0 instead of False"
   ]
  },
  {
   "cell_type": "code",
   "execution_count": 36,
   "id": "6b793425",
   "metadata": {},
   "outputs": [
    {
     "data": {
      "text/plain": [
       "array([[0, 7, 7],\n",
       "       [5, 4, 7],\n",
       "       [4, 0, 0],\n",
       "       [6, 0, 6]])"
      ]
     },
     "execution_count": 36,
     "metadata": {},
     "output_type": "execute_result"
    }
   ],
   "source": [
    "(matrix > 3) * matrix  # Original matrix with 0 where the value is not greater than 3"
   ]
  },
  {
   "cell_type": "markdown",
   "id": "55173071",
   "metadata": {},
   "source": [
    "## Modifying data in a table"
   ]
  },
  {
   "cell_type": "code",
   "execution_count": 37,
   "id": "7962ecf0",
   "metadata": {},
   "outputs": [
    {
     "data": {
      "text/plain": [
       "array([10,  2,  3])"
      ]
     },
     "execution_count": 37,
     "metadata": {},
     "output_type": "execute_result"
    }
   ],
   "source": [
    "arr1[0] = 10\n",
    "arr1"
   ]
  },
  {
   "cell_type": "code",
   "execution_count": 38,
   "id": "98f63234",
   "metadata": {},
   "outputs": [
    {
     "data": {
      "text/plain": [
       "array([[1, 1, 1],\n",
       "       [5, 4, 7],\n",
       "       [4, 1, 1],\n",
       "       [6, 0, 6]])"
      ]
     },
     "execution_count": 38,
     "metadata": {},
     "output_type": "execute_result"
    }
   ],
   "source": [
    "matrix[0] = [1, 1, 1]\n",
    "matrix"
   ]
  },
  {
   "cell_type": "code",
   "execution_count": 39,
   "id": "57b1e585",
   "metadata": {},
   "outputs": [
    {
     "data": {
      "text/plain": [
       "array([[1, 1, 1],\n",
       "       [1, 4, 7],\n",
       "       [1, 1, 1],\n",
       "       [1, 0, 6]])"
      ]
     },
     "execution_count": 39,
     "metadata": {},
     "output_type": "execute_result"
    }
   ],
   "source": [
    "matrix[:, 0] = [1, 1, 1, 1]\n",
    "matrix"
   ]
  },
  {
   "cell_type": "markdown",
   "id": "a7af86a3",
   "metadata": {},
   "source": [
    "## Applying math functions on a table"
   ]
  },
  {
   "cell_type": "code",
   "execution_count": 40,
   "id": "1981ca3e",
   "metadata": {},
   "outputs": [
    {
     "data": {
      "text/plain": [
       "array([-0.83907153, -0.41614684, -0.9899925 ])"
      ]
     },
     "execution_count": 40,
     "metadata": {},
     "output_type": "execute_result"
    }
   ],
   "source": [
    "np.cos(arr1)"
   ]
  },
  {
   "cell_type": "markdown",
   "id": "bae437f9",
   "metadata": {},
   "source": [
    "Try other functions"
   ]
  },
  {
   "cell_type": "code",
   "execution_count": 41,
   "id": "d849b63b",
   "metadata": {},
   "outputs": [],
   "source": [
    "import math\n",
    "def sigmoid(x):\n",
    "    return 1 / (1 + math.exp(-x))"
   ]
  },
  {
   "cell_type": "code",
   "execution_count": 42,
   "id": "75e069a9",
   "metadata": {},
   "outputs": [
    {
     "ename": "TypeError",
     "evalue": "only size-1 arrays can be converted to Python scalars",
     "output_type": "error",
     "traceback": [
      "\u001b[0;31m---------------------------------------------------------------------------\u001b[0m",
      "\u001b[0;31mTypeError\u001b[0m                                 Traceback (most recent call last)",
      "\u001b[0;32m/tmp/ipykernel_13824/3305064521.py\u001b[0m in \u001b[0;36m<module>\u001b[0;34m\u001b[0m\n\u001b[0;32m----> 1\u001b[0;31m \u001b[0msigmoid\u001b[0m\u001b[0;34m(\u001b[0m\u001b[0marr1\u001b[0m\u001b[0;34m)\u001b[0m  \u001b[0;31m# Does not work\u001b[0m\u001b[0;34m\u001b[0m\u001b[0;34m\u001b[0m\u001b[0m\n\u001b[0m",
      "\u001b[0;32m/tmp/ipykernel_13824/378324230.py\u001b[0m in \u001b[0;36msigmoid\u001b[0;34m(x)\u001b[0m\n\u001b[1;32m      1\u001b[0m \u001b[0;32mimport\u001b[0m \u001b[0mmath\u001b[0m\u001b[0;34m\u001b[0m\u001b[0;34m\u001b[0m\u001b[0m\n\u001b[1;32m      2\u001b[0m \u001b[0;32mdef\u001b[0m \u001b[0msigmoid\u001b[0m\u001b[0;34m(\u001b[0m\u001b[0mx\u001b[0m\u001b[0;34m)\u001b[0m\u001b[0;34m:\u001b[0m\u001b[0;34m\u001b[0m\u001b[0;34m\u001b[0m\u001b[0m\n\u001b[0;32m----> 3\u001b[0;31m     \u001b[0;32mreturn\u001b[0m \u001b[0;36m1\u001b[0m \u001b[0;34m/\u001b[0m \u001b[0;34m(\u001b[0m\u001b[0;36m1\u001b[0m \u001b[0;34m+\u001b[0m \u001b[0mmath\u001b[0m\u001b[0;34m.\u001b[0m\u001b[0mexp\u001b[0m\u001b[0;34m(\u001b[0m\u001b[0;34m-\u001b[0m\u001b[0mx\u001b[0m\u001b[0;34m)\u001b[0m\u001b[0;34m)\u001b[0m\u001b[0;34m\u001b[0m\u001b[0;34m\u001b[0m\u001b[0m\n\u001b[0m",
      "\u001b[0;31mTypeError\u001b[0m: only size-1 arrays can be converted to Python scalars"
     ]
    }
   ],
   "source": [
    "sigmoid(arr1)  # Does not work"
   ]
  },
  {
   "cell_type": "code",
   "execution_count": 43,
   "id": "503fc50e",
   "metadata": {},
   "outputs": [
    {
     "data": {
      "text/plain": [
       "array([0.9999546 , 0.88079708, 0.95257413])"
      ]
     },
     "execution_count": 43,
     "metadata": {},
     "output_type": "execute_result"
    }
   ],
   "source": [
    "vectorised_sigmoid = np.vectorize(sigmoid)\n",
    "vectorised_sigmoid(arr1)"
   ]
  },
  {
   "cell_type": "markdown",
   "id": "ee7469e2",
   "metadata": {},
   "source": [
    "# Pandas"
   ]
  },
  {
   "cell_type": "markdown",
   "id": "6dad9bb5",
   "metadata": {},
   "source": [
    "## Series and DataFrames\n",
    "Pandas support 1-D arrays (called \"Series\") and 2-D arrays (called \"DataFrames\"). The difference with numpy : the columns and lines can have labels.\n",
    "In a DataFrame, lines are called indexes, but both line labels and column labels are instances of the pd.Index class\n",
    "\n",
    "Pandas is *very* usefull when working with time series"
   ]
  },
  {
   "cell_type": "markdown",
   "id": "ef5eaf5f",
   "metadata": {},
   "source": [
    "### Series"
   ]
  },
  {
   "cell_type": "code",
   "execution_count": 44,
   "id": "610a265e",
   "metadata": {},
   "outputs": [
    {
     "data": {
      "text/plain": [
       "array([10,  2,  3])"
      ]
     },
     "execution_count": 44,
     "metadata": {},
     "output_type": "execute_result"
    }
   ],
   "source": [
    "arr1"
   ]
  },
  {
   "cell_type": "code",
   "execution_count": 45,
   "id": "9a136c09",
   "metadata": {},
   "outputs": [],
   "source": [
    "s1 = pd.Series(data=arr1)"
   ]
  },
  {
   "cell_type": "code",
   "execution_count": 46,
   "id": "86cb9c0b",
   "metadata": {},
   "outputs": [
    {
     "data": {
      "text/plain": [
       "0    10\n",
       "1     2\n",
       "2     3\n",
       "dtype: int64"
      ]
     },
     "execution_count": 46,
     "metadata": {},
     "output_type": "execute_result"
    }
   ],
   "source": [
    "s1"
   ]
  },
  {
   "cell_type": "code",
   "execution_count": 47,
   "id": "49ee7ea5",
   "metadata": {},
   "outputs": [
    {
     "data": {
      "text/plain": [
       "array([10,  2,  3])"
      ]
     },
     "execution_count": 47,
     "metadata": {},
     "output_type": "execute_result"
    }
   ],
   "source": [
    "s1.values"
   ]
  },
  {
   "cell_type": "code",
   "execution_count": 48,
   "id": "37fb5ab7",
   "metadata": {},
   "outputs": [
    {
     "data": {
      "text/plain": [
       "RangeIndex(start=0, stop=3, step=1)"
      ]
     },
     "execution_count": 48,
     "metadata": {},
     "output_type": "execute_result"
    }
   ],
   "source": [
    "s1.index"
   ]
  },
  {
   "cell_type": "code",
   "execution_count": 49,
   "id": "4dbe2b74",
   "metadata": {},
   "outputs": [],
   "source": [
    "s1 = pd.Series(data=arr1, index=[\"a\", \"b\", \"c\"])"
   ]
  },
  {
   "cell_type": "code",
   "execution_count": 50,
   "id": "b00152e5",
   "metadata": {},
   "outputs": [
    {
     "data": {
      "text/plain": [
       "a    10\n",
       "b     2\n",
       "c     3\n",
       "dtype: int64"
      ]
     },
     "execution_count": 50,
     "metadata": {},
     "output_type": "execute_result"
    }
   ],
   "source": [
    "s1"
   ]
  },
  {
   "cell_type": "code",
   "execution_count": 51,
   "id": "37750c26",
   "metadata": {},
   "outputs": [
    {
     "data": {
      "text/plain": [
       "Index(['a', 'b', 'c'], dtype='object')"
      ]
     },
     "execution_count": 51,
     "metadata": {},
     "output_type": "execute_result"
    }
   ],
   "source": [
    "s1.index"
   ]
  },
  {
   "cell_type": "code",
   "execution_count": 52,
   "id": "67bc275d",
   "metadata": {},
   "outputs": [
    {
     "data": {
      "text/plain": [
       "10"
      ]
     },
     "execution_count": 52,
     "metadata": {},
     "output_type": "execute_result"
    }
   ],
   "source": [
    "s1[\"a\"]"
   ]
  },
  {
   "cell_type": "code",
   "execution_count": 53,
   "id": "3e04e3cc",
   "metadata": {},
   "outputs": [],
   "source": [
    "s1 = pd.Series(data=arr1, index=pd.DatetimeIndex([\"2020-01-01\", \"2020-01-03\", \"2020-01-06\"]))"
   ]
  },
  {
   "cell_type": "code",
   "execution_count": 54,
   "id": "9a7aee6d",
   "metadata": {},
   "outputs": [
    {
     "data": {
      "text/plain": [
       "2020-01-01    10\n",
       "2020-01-03     2\n",
       "2020-01-06     3\n",
       "dtype: int64"
      ]
     },
     "execution_count": 54,
     "metadata": {},
     "output_type": "execute_result"
    }
   ],
   "source": [
    "s1"
   ]
  },
  {
   "cell_type": "code",
   "execution_count": 57,
   "id": "6691ae87",
   "metadata": {},
   "outputs": [
    {
     "data": {
      "text/plain": [
       "2020-01-06    3\n",
       "dtype: int64"
      ]
     },
     "execution_count": 57,
     "metadata": {},
     "output_type": "execute_result"
    }
   ],
   "source": [
    "s1[s1.index > \"2020-01-03\"]  # Pandas recognizes \"2020-01-03\" as a date"
   ]
  },
  {
   "cell_type": "markdown",
   "id": "4d095834",
   "metadata": {},
   "source": [
    "### DataFrames\n",
    "They are just multiple Series stackes together"
   ]
  },
  {
   "cell_type": "code",
   "execution_count": 58,
   "id": "a347f0f4",
   "metadata": {},
   "outputs": [],
   "source": [
    "df = pd.DataFrame(data=[arr1, arr2])  # arr1 is the first line, arr2 the second"
   ]
  },
  {
   "cell_type": "code",
   "execution_count": 59,
   "id": "75ba02d4",
   "metadata": {},
   "outputs": [
    {
     "data": {
      "text/html": [
       "<div>\n",
       "<style scoped>\n",
       "    .dataframe tbody tr th:only-of-type {\n",
       "        vertical-align: middle;\n",
       "    }\n",
       "\n",
       "    .dataframe tbody tr th {\n",
       "        vertical-align: top;\n",
       "    }\n",
       "\n",
       "    .dataframe thead th {\n",
       "        text-align: right;\n",
       "    }\n",
       "</style>\n",
       "<table border=\"1\" class=\"dataframe\">\n",
       "  <thead>\n",
       "    <tr style=\"text-align: right;\">\n",
       "      <th></th>\n",
       "      <th>0</th>\n",
       "      <th>1</th>\n",
       "      <th>2</th>\n",
       "    </tr>\n",
       "  </thead>\n",
       "  <tbody>\n",
       "    <tr>\n",
       "      <th>0</th>\n",
       "      <td>10</td>\n",
       "      <td>2</td>\n",
       "      <td>3</td>\n",
       "    </tr>\n",
       "    <tr>\n",
       "      <th>1</th>\n",
       "      <td>2</td>\n",
       "      <td>4</td>\n",
       "      <td>6</td>\n",
       "    </tr>\n",
       "  </tbody>\n",
       "</table>\n",
       "</div>"
      ],
      "text/plain": [
       "    0  1  2\n",
       "0  10  2  3\n",
       "1   2  4  6"
      ]
     },
     "execution_count": 59,
     "metadata": {},
     "output_type": "execute_result"
    }
   ],
   "source": [
    "df"
   ]
  },
  {
   "cell_type": "code",
   "execution_count": 60,
   "id": "01e0f45c",
   "metadata": {},
   "outputs": [],
   "source": [
    "df = pd.DataFrame(data=[arr1, arr2], index=[\"A\", \"B\"], columns=pd.DatetimeIndex([\"2020-01-01\", \"2020-01-03\", \"2020-01-06\"]))"
   ]
  },
  {
   "cell_type": "code",
   "execution_count": 61,
   "id": "87a0a642",
   "metadata": {},
   "outputs": [
    {
     "data": {
      "text/html": [
       "<div>\n",
       "<style scoped>\n",
       "    .dataframe tbody tr th:only-of-type {\n",
       "        vertical-align: middle;\n",
       "    }\n",
       "\n",
       "    .dataframe tbody tr th {\n",
       "        vertical-align: top;\n",
       "    }\n",
       "\n",
       "    .dataframe thead th {\n",
       "        text-align: right;\n",
       "    }\n",
       "</style>\n",
       "<table border=\"1\" class=\"dataframe\">\n",
       "  <thead>\n",
       "    <tr style=\"text-align: right;\">\n",
       "      <th></th>\n",
       "      <th>2020-01-01</th>\n",
       "      <th>2020-01-03</th>\n",
       "      <th>2020-01-06</th>\n",
       "    </tr>\n",
       "  </thead>\n",
       "  <tbody>\n",
       "    <tr>\n",
       "      <th>A</th>\n",
       "      <td>10</td>\n",
       "      <td>2</td>\n",
       "      <td>3</td>\n",
       "    </tr>\n",
       "    <tr>\n",
       "      <th>B</th>\n",
       "      <td>2</td>\n",
       "      <td>4</td>\n",
       "      <td>6</td>\n",
       "    </tr>\n",
       "  </tbody>\n",
       "</table>\n",
       "</div>"
      ],
      "text/plain": [
       "   2020-01-01  2020-01-03  2020-01-06\n",
       "A          10           2           3\n",
       "B           2           4           6"
      ]
     },
     "execution_count": 61,
     "metadata": {},
     "output_type": "execute_result"
    }
   ],
   "source": [
    "df"
   ]
  },
  {
   "cell_type": "code",
   "execution_count": 62,
   "id": "e6476569",
   "metadata": {},
   "outputs": [],
   "source": [
    "s2 = pd.Series(data=arr2, index=pd.DatetimeIndex([\"2020-01-01\", \"2020-01-03\", \"2020-01-06\"]))\n",
    "s1.name = \"A\"\n",
    "s2.name = \"B\"\n",
    "df = pd.DataFrame(data=[s1, s2])"
   ]
  },
  {
   "cell_type": "code",
   "execution_count": 63,
   "id": "3b737075",
   "metadata": {},
   "outputs": [
    {
     "data": {
      "text/html": [
       "<div>\n",
       "<style scoped>\n",
       "    .dataframe tbody tr th:only-of-type {\n",
       "        vertical-align: middle;\n",
       "    }\n",
       "\n",
       "    .dataframe tbody tr th {\n",
       "        vertical-align: top;\n",
       "    }\n",
       "\n",
       "    .dataframe thead th {\n",
       "        text-align: right;\n",
       "    }\n",
       "</style>\n",
       "<table border=\"1\" class=\"dataframe\">\n",
       "  <thead>\n",
       "    <tr style=\"text-align: right;\">\n",
       "      <th></th>\n",
       "      <th>2020-01-01</th>\n",
       "      <th>2020-01-03</th>\n",
       "      <th>2020-01-06</th>\n",
       "    </tr>\n",
       "  </thead>\n",
       "  <tbody>\n",
       "    <tr>\n",
       "      <th>A</th>\n",
       "      <td>10</td>\n",
       "      <td>2</td>\n",
       "      <td>3</td>\n",
       "    </tr>\n",
       "    <tr>\n",
       "      <th>B</th>\n",
       "      <td>2</td>\n",
       "      <td>4</td>\n",
       "      <td>6</td>\n",
       "    </tr>\n",
       "  </tbody>\n",
       "</table>\n",
       "</div>"
      ],
      "text/plain": [
       "   2020-01-01  2020-01-03  2020-01-06\n",
       "A          10           2           3\n",
       "B           2           4           6"
      ]
     },
     "execution_count": 63,
     "metadata": {},
     "output_type": "execute_result"
    }
   ],
   "source": [
    "df"
   ]
  },
  {
   "cell_type": "code",
   "execution_count": 64,
   "id": "2fdb20d3",
   "metadata": {},
   "outputs": [
    {
     "data": {
      "text/html": [
       "<div>\n",
       "<style scoped>\n",
       "    .dataframe tbody tr th:only-of-type {\n",
       "        vertical-align: middle;\n",
       "    }\n",
       "\n",
       "    .dataframe tbody tr th {\n",
       "        vertical-align: top;\n",
       "    }\n",
       "\n",
       "    .dataframe thead th {\n",
       "        text-align: right;\n",
       "    }\n",
       "</style>\n",
       "<table border=\"1\" class=\"dataframe\">\n",
       "  <thead>\n",
       "    <tr style=\"text-align: right;\">\n",
       "      <th></th>\n",
       "      <th>A</th>\n",
       "      <th>B</th>\n",
       "    </tr>\n",
       "  </thead>\n",
       "  <tbody>\n",
       "    <tr>\n",
       "      <th>2020-01-01</th>\n",
       "      <td>10</td>\n",
       "      <td>2</td>\n",
       "    </tr>\n",
       "    <tr>\n",
       "      <th>2020-01-03</th>\n",
       "      <td>2</td>\n",
       "      <td>4</td>\n",
       "    </tr>\n",
       "    <tr>\n",
       "      <th>2020-01-06</th>\n",
       "      <td>3</td>\n",
       "      <td>6</td>\n",
       "    </tr>\n",
       "  </tbody>\n",
       "</table>\n",
       "</div>"
      ],
      "text/plain": [
       "             A  B\n",
       "2020-01-01  10  2\n",
       "2020-01-03   2  4\n",
       "2020-01-06   3  6"
      ]
     },
     "execution_count": 64,
     "metadata": {},
     "output_type": "execute_result"
    }
   ],
   "source": [
    "df.T  # More useful in this form"
   ]
  },
  {
   "cell_type": "code",
   "execution_count": 65,
   "id": "e55458f2",
   "metadata": {},
   "outputs": [
    {
     "data": {
      "text/html": [
       "<div>\n",
       "<style scoped>\n",
       "    .dataframe tbody tr th:only-of-type {\n",
       "        vertical-align: middle;\n",
       "    }\n",
       "\n",
       "    .dataframe tbody tr th {\n",
       "        vertical-align: top;\n",
       "    }\n",
       "\n",
       "    .dataframe thead th {\n",
       "        text-align: right;\n",
       "    }\n",
       "</style>\n",
       "<table border=\"1\" class=\"dataframe\">\n",
       "  <thead>\n",
       "    <tr style=\"text-align: right;\">\n",
       "      <th></th>\n",
       "      <th>A</th>\n",
       "      <th>B</th>\n",
       "    </tr>\n",
       "  </thead>\n",
       "  <tbody>\n",
       "    <tr>\n",
       "      <th>2020-01-01</th>\n",
       "      <td>10</td>\n",
       "      <td>2</td>\n",
       "    </tr>\n",
       "    <tr>\n",
       "      <th>2020-01-03</th>\n",
       "      <td>2</td>\n",
       "      <td>4</td>\n",
       "    </tr>\n",
       "    <tr>\n",
       "      <th>2020-01-06</th>\n",
       "      <td>3</td>\n",
       "      <td>6</td>\n",
       "    </tr>\n",
       "  </tbody>\n",
       "</table>\n",
       "</div>"
      ],
      "text/plain": [
       "             A  B\n",
       "2020-01-01  10  2\n",
       "2020-01-03   2  4\n",
       "2020-01-06   3  6"
      ]
     },
     "execution_count": 65,
     "metadata": {},
     "output_type": "execute_result"
    }
   ],
   "source": [
    "pd.concat([s1, s2], axis=1)"
   ]
  },
  {
   "cell_type": "code",
   "execution_count": 68,
   "id": "0632d19a",
   "metadata": {},
   "outputs": [
    {
     "data": {
      "text/html": [
       "<div>\n",
       "<style scoped>\n",
       "    .dataframe tbody tr th:only-of-type {\n",
       "        vertical-align: middle;\n",
       "    }\n",
       "\n",
       "    .dataframe tbody tr th {\n",
       "        vertical-align: top;\n",
       "    }\n",
       "\n",
       "    .dataframe thead th {\n",
       "        text-align: right;\n",
       "    }\n",
       "</style>\n",
       "<table border=\"1\" class=\"dataframe\">\n",
       "  <thead>\n",
       "    <tr style=\"text-align: right;\">\n",
       "      <th></th>\n",
       "      <th>2020-01-01</th>\n",
       "      <th>2020-01-03</th>\n",
       "      <th>2020-01-06</th>\n",
       "    </tr>\n",
       "  </thead>\n",
       "  <tbody>\n",
       "    <tr>\n",
       "      <th>A</th>\n",
       "      <td>10</td>\n",
       "      <td>2</td>\n",
       "      <td>3</td>\n",
       "    </tr>\n",
       "    <tr>\n",
       "      <th>B</th>\n",
       "      <td>2</td>\n",
       "      <td>4</td>\n",
       "      <td>6</td>\n",
       "    </tr>\n",
       "  </tbody>\n",
       "</table>\n",
       "</div>"
      ],
      "text/plain": [
       "   2020-01-01  2020-01-03  2020-01-06\n",
       "A          10           2           3\n",
       "B           2           4           6"
      ]
     },
     "execution_count": 68,
     "metadata": {},
     "output_type": "execute_result"
    }
   ],
   "source": [
    "pd.concat([s1, s2], axis=1).T"
   ]
  },
  {
   "cell_type": "code",
   "execution_count": 69,
   "id": "1bb43e53",
   "metadata": {},
   "outputs": [
    {
     "data": {
      "text/html": [
       "<div>\n",
       "<style scoped>\n",
       "    .dataframe tbody tr th:only-of-type {\n",
       "        vertical-align: middle;\n",
       "    }\n",
       "\n",
       "    .dataframe tbody tr th {\n",
       "        vertical-align: top;\n",
       "    }\n",
       "\n",
       "    .dataframe thead th {\n",
       "        text-align: right;\n",
       "    }\n",
       "</style>\n",
       "<table border=\"1\" class=\"dataframe\">\n",
       "  <thead>\n",
       "    <tr style=\"text-align: right;\">\n",
       "      <th></th>\n",
       "      <th>2020-01-01</th>\n",
       "      <th>2020-01-03</th>\n",
       "      <th>2020-01-06</th>\n",
       "    </tr>\n",
       "  </thead>\n",
       "  <tbody>\n",
       "    <tr>\n",
       "      <th>A</th>\n",
       "      <td>10</td>\n",
       "      <td>2</td>\n",
       "      <td>3</td>\n",
       "    </tr>\n",
       "    <tr>\n",
       "      <th>B</th>\n",
       "      <td>2</td>\n",
       "      <td>4</td>\n",
       "      <td>6</td>\n",
       "    </tr>\n",
       "  </tbody>\n",
       "</table>\n",
       "</div>"
      ],
      "text/plain": [
       "   2020-01-01  2020-01-03  2020-01-06\n",
       "A          10           2           3\n",
       "B           2           4           6"
      ]
     },
     "execution_count": 69,
     "metadata": {},
     "output_type": "execute_result"
    }
   ],
   "source": [
    "df"
   ]
  },
  {
   "cell_type": "code",
   "execution_count": 70,
   "id": "1816946b",
   "metadata": {},
   "outputs": [
    {
     "data": {
      "text/plain": [
       "2020-01-01    10\n",
       "2020-01-03     2\n",
       "2020-01-06     3\n",
       "Name: A, dtype: int64"
      ]
     },
     "execution_count": 70,
     "metadata": {},
     "output_type": "execute_result"
    }
   ],
   "source": [
    "df.loc[\"A\"]"
   ]
  },
  {
   "cell_type": "code",
   "execution_count": 71,
   "id": "85bd9227",
   "metadata": {},
   "outputs": [
    {
     "data": {
      "text/plain": [
       "A    10\n",
       "B     2\n",
       "Name: 2020-01-01 00:00:00, dtype: int64"
      ]
     },
     "execution_count": 71,
     "metadata": {},
     "output_type": "execute_result"
    }
   ],
   "source": [
    "df[\"2020-01-01\"]"
   ]
  },
  {
   "cell_type": "code",
   "execution_count": 72,
   "id": "6e7c3ba4",
   "metadata": {},
   "outputs": [
    {
     "data": {
      "text/plain": [
       "10"
      ]
     },
     "execution_count": 72,
     "metadata": {},
     "output_type": "execute_result"
    }
   ],
   "source": [
    "df.loc[\"A\", \"2020-01-01\"]"
   ]
  },
  {
   "cell_type": "code",
   "execution_count": null,
   "id": "e602bea5",
   "metadata": {},
   "outputs": [],
   "source": []
  }
 ],
 "metadata": {
  "kernelspec": {
   "display_name": "Python 3 (ipykernel)",
   "language": "python",
   "name": "python3"
  },
  "language_info": {
   "codemirror_mode": {
    "name": "ipython",
    "version": 3
   },
   "file_extension": ".py",
   "mimetype": "text/x-python",
   "name": "python",
   "nbconvert_exporter": "python",
   "pygments_lexer": "ipython3",
   "version": "3.8.0"
  }
 },
 "nbformat": 4,
 "nbformat_minor": 5
}
