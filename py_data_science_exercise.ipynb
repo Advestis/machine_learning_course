{
 "cells": [
  {
   "cell_type": "markdown",
   "id": "ea78f9c8",
   "metadata": {},
   "source": [
    "# Exercise\n",
    "You will use the file 'data_science_exercise.csv'. Start by opening it and exploring it with Calc or Excel.\n",
    "\n",
    "You will then create a script that loads the file into a pandas dataframe. You will normalise each columns (normalising = substracting the mean and dividing by the standard deviation) and plot the columns vs the index in a .pdf file using matplotlib, and into a  .html file using .plotly.\n",
    "\n",
    "You will then load a second csv, 'data_science_exercise_2.csv', and combine the two dataframes.\n",
    "\n",
    "You will then create a new column named 'A x B' that is the product of column 'A' and 'B', and save the dataframe into a new .csv file named 'results.csv'"
   ]
  },
  {
   "cell_type": "code",
   "execution_count": null,
   "id": "cb3782da",
   "metadata": {},
   "outputs": [],
   "source": []
  }
 ],
 "metadata": {
  "kernelspec": {
   "display_name": "Python 3 (ipykernel)",
   "language": "python",
   "name": "python3"
  },
  "language_info": {
   "codemirror_mode": {
    "name": "ipython",
    "version": 3
   },
   "file_extension": ".py",
   "mimetype": "text/x-python",
   "name": "python",
   "nbconvert_exporter": "python",
   "pygments_lexer": "ipython3",
   "version": "3.8.0"
  }
 },
 "nbformat": 4,
 "nbformat_minor": 5
}
